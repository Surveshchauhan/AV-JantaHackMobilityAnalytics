{
 "cells": [
  {
   "cell_type": "markdown",
   "metadata": {},
   "source": [
    "# JanataHack: Mobility Analytics"
   ]
  },
  {
   "cell_type": "markdown",
   "metadata": {},
   "source": [
    "Welcome to Sigma Cab Private Limited - a cab aggregator service. Their customers can download their app on smartphones and book a cab from any where in the cities they operate in. They, in turn search for cabs from various service providers and provide the best option to their client across available options. They have been in operation for little less than a year now. During this period, they have captured surge_pricing_type from the service providers.\n",
    "\n",
    "You have been hired by Sigma Cabs as a Data Scientist and have been asked to build a predictive model, which could help them in predicting the surge_pricing_type pro-actively. This would in turn help them in matching the right cabs with the right customers quickly and efficiently."
   ]
  },
  {
   "cell_type": "markdown",
   "metadata": {},
   "source": [
    "## Approach\n",
    "\n",
    "* No feature Engineering done.\n",
    "* Created separate group for null values in categorical varaibles\n",
    "* Updated the null values for continous varaibles with mean/medain\n",
    "* Used CAT boost with 5 fold CV\n"
   ]
  },
  {
   "cell_type": "code",
   "execution_count": 10,
   "metadata": {},
   "outputs": [],
   "source": [
    "# import libraries\n",
    "\n",
    "import pandas as pd\n",
    "import numpy as np \n",
    "import matplotlib.pyplot as plt\n",
    "#%matplotlib inline \n",
    "import os\n",
    "from catboost import CatBoostClassifier\n",
    "from sklearn.model_selection import train_test_split\n",
    "from sklearn.metrics import roc_auc_score\n",
    "\n",
    "#read data\n",
    "\n",
    "df_train = pd.read_csv('train.csv')\n",
    "df_test = pd.read_csv('test.csv')\n",
    "sub = pd.read_csv('sample_submission.csv')\n",
    "\n",
    "df_train.Type_of_Cab.fillna(\"F\",inplace=True)\n",
    "df_test.Type_of_Cab.fillna(\"F\",inplace=True)\n",
    "df_train.Life_Style_Index.fillna(df_train.Life_Style_Index.mean(),inplace=True)\n",
    "df_test.Life_Style_Index.fillna(df_test.Life_Style_Index.mean(),inplace=True)\n",
    "\n",
    "df_train.Customer_Since_Months.fillna(99,inplace=True)\n",
    "df_test.Customer_Since_Months.fillna(99,inplace=True)\n",
    "df_train.Customer_Since_Months = df_train.Customer_Since_Months.astype(int)\n",
    "df_test.Customer_Since_Months = df_test.Customer_Since_Months.astype(int)\n",
    "\n",
    "\n",
    "df_train.Var1.fillna(df_train.Var1.median(),inplace=True)\n",
    "df_test.Var1.fillna(df_test.Var1.median(),inplace=True)\n",
    "df_train.Confidence_Life_Style_Index.fillna('D',inplace=True)\n",
    "df_test.Confidence_Life_Style_Index.fillna('D',inplace=True)\n",
    "\n"
   ]
  },
  {
   "cell_type": "code",
   "execution_count": 11,
   "metadata": {},
   "outputs": [
    {
     "name": "stdout",
     "output_type": "stream",
     "text": [
      "<class 'pandas.core.frame.DataFrame'>\n",
      "RangeIndex: 131662 entries, 0 to 131661\n",
      "Data columns (total 14 columns):\n",
      " #   Column                       Non-Null Count   Dtype  \n",
      "---  ------                       --------------   -----  \n",
      " 0   Trip_ID                      131662 non-null  object \n",
      " 1   Trip_Distance                131662 non-null  float64\n",
      " 2   Type_of_Cab                  131662 non-null  object \n",
      " 3   Customer_Since_Months        131662 non-null  int32  \n",
      " 4   Life_Style_Index             131662 non-null  float64\n",
      " 5   Confidence_Life_Style_Index  131662 non-null  object \n",
      " 6   Destination_Type             131662 non-null  object \n",
      " 7   Customer_Rating              131662 non-null  float64\n",
      " 8   Cancellation_Last_1Month     131662 non-null  int64  \n",
      " 9   Var1                         131662 non-null  float64\n",
      " 10  Var2                         131662 non-null  int64  \n",
      " 11  Var3                         131662 non-null  int64  \n",
      " 12  Gender                       131662 non-null  object \n",
      " 13  Surge_Pricing_Type           131662 non-null  int64  \n",
      "dtypes: float64(4), int32(1), int64(4), object(5)\n",
      "memory usage: 13.6+ MB\n"
     ]
    }
   ],
   "source": [
    "df_train.info()"
   ]
  },
  {
   "cell_type": "code",
   "execution_count": 12,
   "metadata": {},
   "outputs": [],
   "source": [
    "from sklearn.model_selection import StratifiedKFold,KFold\n",
    "# Set up folds\n",
    "K = 5\n",
    "kf = KFold(n_splits = K, random_state = 7, shuffle = True)\n",
    "skf = StratifiedKFold(n_splits = K, random_state = 7, shuffle = True)"
   ]
  },
  {
   "cell_type": "code",
   "execution_count": 13,
   "metadata": {},
   "outputs": [],
   "source": [
    "MAX_ROUNDS = 1000\n",
    "OPTIMIZE_ROUNDS = False\n",
    "#LEARNING_RATE = 0.1"
   ]
  },
  {
   "cell_type": "code",
   "execution_count": 14,
   "metadata": {
    "scrolled": true
   },
   "outputs": [
    {
     "name": "stdout",
     "output_type": "stream",
     "text": [
      "\n",
      "Fold  1\n",
      "0.7068697072114837\n",
      "\n",
      "Fold  2\n",
      "0.707857061481791\n",
      "\n",
      "Fold  3\n",
      "0.7057952301382349\n",
      "\n",
      "Fold  4\n",
      "0.7008962479112867\n",
      "\n",
      "Fold  5\n",
      "0.7046559319459214\n",
      "0.7052148357377435\n"
     ]
    }
   ],
   "source": [
    "from sklearn.metrics import accuracy_score\n",
    "X = df_train.drop(columns=['Trip_ID','Surge_Pricing_Type'],axis=1)\n",
    "y = df_train['Surge_Pricing_Type']\n",
    "X_test = df_test.drop(columns='Trip_ID',axis=1)\n",
    "y_valid_pred = 0*y\n",
    "y_test_pred = 0\n",
    "accuracy = 0\n",
    "result={}\n",
    "#specifying categorical variables indexes\n",
    "cat_columns = ['Type_of_Cab','Confidence_Life_Style_Index','Destination_Type','Gender','Customer_Since_Months']\n",
    "#fitting catboost classifier model\n",
    "j=1\n",
    "model = CatBoostClassifier(n_estimators=MAX_ROUNDS,verbose=False)\n",
    "for i, (train_index, test_index) in enumerate(kf.split(df_train)):\n",
    "\n",
    "#for train_index, test_index in skf.split(X, y):  \n",
    "    # Create data for this fold\n",
    "    y_train, y_valid = y.iloc[train_index], y.iloc[test_index]\n",
    "    X_train, X_valid = X.iloc[train_index,:], X.iloc[test_index,:]\n",
    "    print( \"\\nFold \", j)\n",
    "    #print( \"\\nFold \", i)\n",
    "    \n",
    "    # Run model for this fold\n",
    "    if OPTIMIZE_ROUNDS:\n",
    "        fit_model = model.fit( X_train, y_train, \n",
    "                               eval_set=[X_valid, y_valid],cat_features=cat_columns,\n",
    "                               use_best_model=True\n",
    "                             )\n",
    "        print( \"  N trees = \", model.tree_count_ )\n",
    "    else:\n",
    "        fit_model = model.fit( X_train, y_train,cat_features=cat_columns )\n",
    "        \n",
    "    # Generate validation predictions for this fold\n",
    "    pred = fit_model.predict(X_valid)\n",
    "    y_valid_pred.iloc[test_index] = pred.reshape(-1)\n",
    "    print(accuracy_score(y_valid,pred))\n",
    "    accuracy+=accuracy_score(y_valid,pred)\n",
    "    # Accumulate test set predictions\n",
    "    y_test_pred += fit_model.predict(X_test)\n",
    "    result[j]=fit_model.predict(X_test)\n",
    "    j+=1\n",
    "results = y_test_pred / K  # Average test set predictions\n",
    "print(accuracy/5)"
   ]
  },
  {
   "cell_type": "code",
   "execution_count": 15,
   "metadata": {},
   "outputs": [],
   "source": [
    "d = pd.DataFrame()\n",
    "for i in range(1, 6):\n",
    "    d = pd.concat([d,pd.DataFrame(result[i])],axis=1)\n",
    "d.columns=['1','2','3','4','5']\n",
    "#d.to_csv(\"d.csv\",index=False)"
   ]
  },
  {
   "cell_type": "code",
   "execution_count": 16,
   "metadata": {},
   "outputs": [],
   "source": [
    "re = d.mode(axis=1)[0]"
   ]
  },
  {
   "cell_type": "code",
   "execution_count": 17,
   "metadata": {},
   "outputs": [],
   "source": [
    "sub.Surge_Pricing_Type = re\n",
    "sub.to_csv('cb_k.csv',index = False)\n"
   ]
  },
  {
   "cell_type": "code",
   "execution_count": 40,
   "metadata": {},
   "outputs": [
    {
     "data": {
      "text/html": [
       "<div>\n",
       "<style scoped>\n",
       "    .dataframe tbody tr th:only-of-type {\n",
       "        vertical-align: middle;\n",
       "    }\n",
       "\n",
       "    .dataframe tbody tr th {\n",
       "        vertical-align: top;\n",
       "    }\n",
       "\n",
       "    .dataframe thead th {\n",
       "        text-align: right;\n",
       "    }\n",
       "</style>\n",
       "<table border=\"1\" class=\"dataframe\">\n",
       "  <thead>\n",
       "    <tr style=\"text-align: right;\">\n",
       "      <th></th>\n",
       "      <th>Trip_ID</th>\n",
       "      <th>Surge_Pricing_Type</th>\n",
       "    </tr>\n",
       "  </thead>\n",
       "  <tbody>\n",
       "    <tr>\n",
       "      <th>0</th>\n",
       "      <td>T0005689459</td>\n",
       "      <td>1.0</td>\n",
       "    </tr>\n",
       "    <tr>\n",
       "      <th>1</th>\n",
       "      <td>T0005689462</td>\n",
       "      <td>2.0</td>\n",
       "    </tr>\n",
       "    <tr>\n",
       "      <th>2</th>\n",
       "      <td>T0005689463</td>\n",
       "      <td>2.0</td>\n",
       "    </tr>\n",
       "    <tr>\n",
       "      <th>3</th>\n",
       "      <td>T0005689466</td>\n",
       "      <td>2.0</td>\n",
       "    </tr>\n",
       "    <tr>\n",
       "      <th>4</th>\n",
       "      <td>T0005689468</td>\n",
       "      <td>2.0</td>\n",
       "    </tr>\n",
       "    <tr>\n",
       "      <th>...</th>\n",
       "      <td>...</td>\n",
       "      <td>...</td>\n",
       "    </tr>\n",
       "    <tr>\n",
       "      <th>87390</th>\n",
       "      <td>T0005908503</td>\n",
       "      <td>2.0</td>\n",
       "    </tr>\n",
       "    <tr>\n",
       "      <th>87391</th>\n",
       "      <td>T0005908504</td>\n",
       "      <td>2.0</td>\n",
       "    </tr>\n",
       "    <tr>\n",
       "      <th>87392</th>\n",
       "      <td>T0005908505</td>\n",
       "      <td>1.0</td>\n",
       "    </tr>\n",
       "    <tr>\n",
       "      <th>87393</th>\n",
       "      <td>T0005908511</td>\n",
       "      <td>2.0</td>\n",
       "    </tr>\n",
       "    <tr>\n",
       "      <th>87394</th>\n",
       "      <td>T0005908515</td>\n",
       "      <td>2.0</td>\n",
       "    </tr>\n",
       "  </tbody>\n",
       "</table>\n",
       "<p>87395 rows × 2 columns</p>\n",
       "</div>"
      ],
      "text/plain": [
       "           Trip_ID  Surge_Pricing_Type\n",
       "0      T0005689459                 1.0\n",
       "1      T0005689462                 2.0\n",
       "2      T0005689463                 2.0\n",
       "3      T0005689466                 2.0\n",
       "4      T0005689468                 2.0\n",
       "...            ...                 ...\n",
       "87390  T0005908503                 2.0\n",
       "87391  T0005908504                 2.0\n",
       "87392  T0005908505                 1.0\n",
       "87393  T0005908511                 2.0\n",
       "87394  T0005908515                 2.0\n",
       "\n",
       "[87395 rows x 2 columns]"
      ]
     },
     "execution_count": 40,
     "metadata": {},
     "output_type": "execute_result"
    }
   ],
   "source": [
    "sub"
   ]
  },
  {
   "cell_type": "code",
   "execution_count": null,
   "metadata": {},
   "outputs": [],
   "source": []
  }
 ],
 "metadata": {
  "kernelspec": {
   "display_name": "Python 3",
   "language": "python",
   "name": "python3"
  },
  "language_info": {
   "codemirror_mode": {
    "name": "ipython",
    "version": 3
   },
   "file_extension": ".py",
   "mimetype": "text/x-python",
   "name": "python",
   "nbconvert_exporter": "python",
   "pygments_lexer": "ipython3",
   "version": "3.6.10"
  }
 },
 "nbformat": 4,
 "nbformat_minor": 4
}
